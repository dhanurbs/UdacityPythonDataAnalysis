{
 "cells": [
  {
   "cell_type": "markdown",
   "metadata": {},
   "source": [
    "## Loading CSV files into python using standard library \"unicodecsv\""
   ]
  },
  {
   "cell_type": "markdown",
   "metadata": {},
   "source": [
    "### Version 1 (longer version): Loading data one record at a time by using an iterator"
   ]
  },
  {
   "cell_type": "code",
   "execution_count": 16,
   "metadata": {
    "collapsed": false
   },
   "outputs": [],
   "source": [
    "import os, sys\n",
    "import unicodecsv"
   ]
  },
  {
   "cell_type": "code",
   "execution_count": 20,
   "metadata": {
    "collapsed": false
   },
   "outputs": [
    {
     "name": "stdout",
     "output_type": "stream",
     "text": [
      "D:\\Users\\dbalagere\\Documents\\PythonScripts\\data_analysis\n",
      "D:\\Users\\dbalagere\\Documents\\PythonScripts\\data_analysis\\datasets\\enrollments.csv\n"
     ]
    }
   ],
   "source": [
    "print os.getcwd() # get current working directory\n",
    "file_loc = os.path.join(os.getcwd(),\"datasets\\enrollments.csv\")\n",
    "print file_loc"
   ]
  },
  {
   "cell_type": "code",
   "execution_count": 21,
   "metadata": {
    "collapsed": true
   },
   "outputs": [],
   "source": [
    "# or you can directly code the file location as below. Make sure the backslashes are escaped while giving path.\n",
    "\n",
    "#enrollments_filename = 'D:\\\\Users\\\\dbalagere\\\\Documents\\\\PythonScripts\\\\data_analysis\\\\datasets\\\\enrollments.csv'\n",
    "\n",
    "enrollments_filename = file_loc\n",
    "\n",
    "## create an empty list and append one row at a time.\n",
    "\n",
    "enrollments = []\n",
    "f = open(enrollments_filename, 'rb') ## 'rb' means open file for reading\n",
    "reader = unicodecsv.DictReader(f)\n",
    "for row in reader:\n",
    "     enrollments.append(row)\n",
    "f.close()"
   ]
  },
  {
   "cell_type": "code",
   "execution_count": 29,
   "metadata": {
    "collapsed": false
   },
   "outputs": [
    {
     "name": "stdout",
     "output_type": "stream",
     "text": [
      "{u'lessons_completed': u'0.0', u'num_courses_visited': u'2.0', u'total_minutes_visited': u'37.2848873333', u'projects_completed': u'0.0', u'acct': u'0', u'utc_date': u'2015-01-10'}\n",
      "\n",
      "136240\n",
      "<type 'list'>\n"
     ]
    }
   ],
   "source": [
    "print enrollments[1] # print first row\n",
    "print '\\n',len(enrollments) # number of rows\n",
    "print type(enrollments)"
   ]
  },
  {
   "cell_type": "markdown",
   "metadata": {},
   "source": [
    "## Version 2 (Shorter): Here we read the data as python dictionary and put it a as list later"
   ]
  },
  {
   "cell_type": "code",
   "execution_count": 30,
   "metadata": {
    "collapsed": false
   },
   "outputs": [
    {
     "name": "stdout",
     "output_type": "stream",
     "text": [
      "D:\\Users\\dbalagere\\Documents\\PythonScripts\\data_analysis\\datasets\\daily_engagement.csv\n",
      "{u'lessons_completed': u'0.0', u'num_courses_visited': u'2.0', u'total_minutes_visited': u'37.2848873333', u'projects_completed': u'0.0', u'acct': u'0', u'utc_date': u'2015-01-10'}\n",
      "\n",
      "136240\n",
      "<type 'list'>\n"
     ]
    }
   ],
   "source": [
    "## use 'with' option, make sure the indentation are correct !\n",
    "\n",
    "import os, sys\n",
    "import unicodecsv\n",
    "\n",
    "file_loc = os.path.join(os.getcwd(),\"datasets\\daily_engagement.csv\")\n",
    "print file_loc\n",
    "\n",
    "engagement_filename = file_loc\n",
    "\n",
    "with open(engagement_filename, 'rb') as f:\n",
    "    reader = unicodecsv.DictReader(f)\n",
    "    engagements = list(reader)\n",
    "\n",
    "## print    \n",
    "print engagements[1] # print first row\n",
    "print '\\n',len(engagements) # number of rows\n",
    "print type(engagements)"
   ]
  },
  {
   "cell_type": "markdown",
   "metadata": {},
   "source": [
    "## Version 3: Using function"
   ]
  },
  {
   "cell_type": "code",
   "execution_count": 31,
   "metadata": {
    "collapsed": false
   },
   "outputs": [
    {
     "name": "stdout",
     "output_type": "stream",
     "text": [
      "D:\\Users\\dbalagere\\Documents\\PythonScripts\\data_analysis\\datasets\\project_submissions.csv\n",
      "{u'lesson_key': u'3176718735', u'processing_state': u'EVALUATED', u'account_key': u'256', u'assigned_rating': u'INCOMPLETE', u'completion_date': u'2015-01-13', u'creation_date': u'2015-01-10'}\n",
      "\n",
      "3642\n",
      "<type 'list'>\n"
     ]
    }
   ],
   "source": [
    "file_loc = os.path.join(os.getcwd(),\"datasets\\project_submissions.csv\")\n",
    "print file_loc\n",
    "\n",
    "def read_csv(filename):\n",
    "    with open(filename, 'rb') as f:\n",
    "        reader = unicodecsv.DictReader(f)\n",
    "        return list(reader)\n",
    "\n",
    "project_submissions = read_csv(file_loc)\n",
    "\n",
    "print project_submissions[1] # print first row\n",
    "print '\\n',len(project_submissions) # number of rows\n",
    "print type(project_submissions)"
   ]
  },
  {
   "cell_type": "code",
   "execution_count": null,
   "metadata": {
    "collapsed": true
   },
   "outputs": [],
   "source": []
  }
 ],
 "metadata": {
  "kernelspec": {
   "display_name": "Python 2",
   "language": "python",
   "name": "python2"
  },
  "language_info": {
   "codemirror_mode": {
    "name": "ipython",
    "version": 2
   },
   "file_extension": ".py",
   "mimetype": "text/x-python",
   "name": "python",
   "nbconvert_exporter": "python",
   "pygments_lexer": "ipython2",
   "version": "2.7.11"
  }
 },
 "nbformat": 4,
 "nbformat_minor": 0
}
