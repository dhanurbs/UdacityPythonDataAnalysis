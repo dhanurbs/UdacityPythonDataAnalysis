{
 "cells": [
  {
   "cell_type": "markdown",
   "metadata": {},
   "source": [
    "# NumPy"
   ]
  },
  {
   "cell_type": "code",
   "execution_count": 1,
   "metadata": {
    "collapsed": true
   },
   "outputs": [],
   "source": [
    "import numpy as np"
   ]
  },
  {
   "cell_type": "code",
   "execution_count": 12,
   "metadata": {
    "collapsed": false
   },
   "outputs": [],
   "source": [
    "# First 20 countries with employment data\n",
    "countries = np.array([\n",
    "    'Afghanistan', 'Albania', 'Algeria', 'Angola', 'Argentina',\n",
    "    'Armenia', 'Australia', 'Austria', 'Azerbaijan', 'Bahamas',\n",
    "    'Bahrain', 'Bangladesh', 'Barbados', 'Belarus', 'Belgium',\n",
    "    'Belize', 'Benin', 'Bhutan', 'Bolivia',\n",
    "    'Bosnia and Herzegovina'\n",
    "])\n",
    "\n",
    "# Employment data in 2007 for those 20 countries\n",
    "employment = np.array([\n",
    "    55.70000076,  51.40000153,  50.5       ,  75.69999695,\n",
    "    58.40000153,  40.09999847,  61.5       ,  57.09999847,\n",
    "    60.90000153,  66.59999847,  60.40000153,  68.09999847,\n",
    "    66.90000153,  53.40000153,  48.59999847,  56.79999924,\n",
    "    71.59999847,  58.40000153,  70.40000153,  41.20000076\n",
    "])"
   ]
  },
  {
   "cell_type": "code",
   "execution_count": 13,
   "metadata": {
    "collapsed": false
   },
   "outputs": [
    {
     "name": "stdout",
     "output_type": "stream",
     "text": [
      "Afghanistan\n",
      "Angola\n",
      "['Afghanistan' 'Albania' 'Algeria']\n",
      "['Afghanistan' 'Albania' 'Algeria']\n",
      "['Bhutan' 'Bolivia' 'Bosnia and Herzegovina']\n",
      "['Afghanistan' 'Albania' 'Algeria' 'Angola' 'Argentina' 'Armenia'\n",
      " 'Australia' 'Austria' 'Azerbaijan' 'Bahamas' 'Bahrain' 'Bangladesh'\n",
      " 'Barbados' 'Belarus' 'Belgium' 'Belize' 'Benin' 'Bhutan' 'Bolivia'\n",
      " 'Bosnia and Herzegovina']\n",
      "|S22\n",
      "float64\n",
      "int32\n",
      "float64\n",
      "bool\n",
      "|S2\n",
      "Examining country Afghanistan\n",
      "Examining country Albania\n",
      "Examining country Algeria\n",
      "Examining country Angola\n",
      "Examining country Argentina\n",
      "Examining country Armenia\n",
      "Examining country Australia\n",
      "Examining country Austria\n",
      "Examining country Azerbaijan\n",
      "Examining country Bahamas\n",
      "Examining country Bahrain\n",
      "Examining country Bangladesh\n",
      "Examining country Barbados\n",
      "Examining country Belarus\n",
      "Examining country Belgium\n",
      "Examining country Belize\n",
      "Examining country Benin\n",
      "Examining country Bhutan\n",
      "Examining country Bolivia\n",
      "Examining country Bosnia and Herzegovina\n",
      "Country Afghanistan has employment 55.70000076\n",
      "Country Albania has employment 51.40000153\n",
      "Country Algeria has employment 50.5\n",
      "Country Angola has employment 75.69999695\n",
      "Country Argentina has employment 58.40000153\n",
      "Country Armenia has employment 40.09999847\n",
      "Country Australia has employment 61.5\n",
      "Country Austria has employment 57.09999847\n",
      "Country Azerbaijan has employment 60.90000153\n",
      "Country Bahamas has employment 66.59999847\n",
      "Country Bahrain has employment 60.40000153\n",
      "Country Bangladesh has employment 68.09999847\n",
      "Country Barbados has employment 66.90000153\n",
      "Country Belarus has employment 53.40000153\n",
      "Country Belgium has employment 48.59999847\n",
      "Country Belize has employment 56.79999924\n",
      "Country Benin has employment 71.59999847\n",
      "Country Bhutan has employment 58.40000153\n",
      "Country Bolivia has employment 70.40000153\n",
      "Country Bosnia and Herzegovina has employment 41.20000076\n",
      "58.6850000385\n",
      "9.33826911369\n",
      "75.69999695\n",
      "1173.70000077\n"
     ]
    }
   ],
   "source": [
    "# Change False to True for each block of code to see what it does\n",
    "\n",
    "# Accessing elements\n",
    "if True:\n",
    "    print countries[0]\n",
    "    print countries[3]\n",
    "\n",
    "# Slicing\n",
    "if True:\n",
    "    print countries[0:3]\n",
    "    print countries[:3]\n",
    "    print countries[17:]\n",
    "    print countries[:]\n",
    "\n",
    "# Element types\n",
    "if True:\n",
    "    print countries.dtype\n",
    "    print employment.dtype\n",
    "    print np.array([0, 1, 2, 3]).dtype\n",
    "    print np.array([1.0, 1.5, 2.0, 2.5]).dtype\n",
    "    print np.array([True, False, True]).dtype\n",
    "    print np.array(['AL', 'AK', 'AZ', 'AR', 'CA']).dtype\n",
    "\n",
    "# Looping\n",
    "if True:\n",
    "    for country in countries:\n",
    "        print 'Examining country {}'.format(country)\n",
    "\n",
    "    for i in range(len(countries)):\n",
    "        country = countries[i]\n",
    "        country_employment = employment[i]\n",
    "        print 'Country {} has employment {}'.format(country,country_employment)\n",
    "\n",
    "# Numpy functions\n",
    "if True:\n",
    "    print employment.mean()\n",
    "    print employment.std()\n",
    "    print employment.max()\n",
    "    print employment.sum()\n"
   ]
  },
  {
   "cell_type": "code",
   "execution_count": 18,
   "metadata": {
    "collapsed": true
   },
   "outputs": [],
   "source": [
    "def max_employment(countries, employment):\n",
    "    max_value = 0\n",
    "    max_country = None\n",
    "    index = 0\n",
    "    for i in range(len(employment)):\n",
    "        if employment[i] > max_value:\n",
    "            max_value = employment[i]\n",
    "            max_country = countries[i]\n",
    "        else:\n",
    "            continue\n",
    "    return (max_country, max_value)"
   ]
  },
  {
   "cell_type": "code",
   "execution_count": 19,
   "metadata": {
    "collapsed": false
   },
   "outputs": [
    {
     "data": {
      "text/plain": [
       "('Angola', 75.699996949999999)"
      ]
     },
     "execution_count": 19,
     "metadata": {},
     "output_type": "execute_result"
    }
   ],
   "source": [
    "max_employment(countries, employment)"
   ]
  },
  {
   "cell_type": "markdown",
   "metadata": {},
   "source": [
    "## There is an easier way to do this !!"
   ]
  },
  {
   "cell_type": "code",
   "execution_count": 20,
   "metadata": {
    "collapsed": true
   },
   "outputs": [],
   "source": [
    "def max_employment2(countries,employment):\n",
    "    i = employment.argmax()\n",
    "    return(countries[i],employment[i])"
   ]
  },
  {
   "cell_type": "code",
   "execution_count": 21,
   "metadata": {
    "collapsed": false
   },
   "outputs": [
    {
     "data": {
      "text/plain": [
       "('Angola', 75.699996949999999)"
      ]
     },
     "execution_count": 21,
     "metadata": {},
     "output_type": "execute_result"
    }
   ],
   "source": [
    "max_employment2(countries, employment)"
   ]
  },
  {
   "cell_type": "markdown",
   "metadata": {},
   "source": [
    "## Standardize the data in Numpy"
   ]
  },
  {
   "cell_type": "code",
   "execution_count": 22,
   "metadata": {
    "collapsed": true
   },
   "outputs": [],
   "source": [
    "countries = np.array([\n",
    "    'Afghanistan', 'Albania', 'Algeria', 'Angola', 'Argentina',\n",
    "    'Armenia', 'Australia', 'Austria', 'Azerbaijan', 'Bahamas',\n",
    "    'Bahrain', 'Bangladesh', 'Barbados', 'Belarus', 'Belgium',\n",
    "    'Belize', 'Benin', 'Bhutan', 'Bolivia',\n",
    "    'Bosnia and Herzegovina'\n",
    "])\n",
    "\n",
    "# Employment data in 2007 for those 20 countries\n",
    "employment = np.array([\n",
    "    55.70000076,  51.40000153,  50.5       ,  75.69999695,\n",
    "    58.40000153,  40.09999847,  61.5       ,  57.09999847,\n",
    "    60.90000153,  66.59999847,  60.40000153,  68.09999847,\n",
    "    66.90000153,  53.40000153,  48.59999847,  56.79999924,\n",
    "    71.59999847,  58.40000153,  70.40000153,  41.20000076\n",
    "])\n",
    "\n",
    "# Change this country name to change what country will be printed when you\n",
    "# \"Run\". Your function will be called to determine the standardized\n",
    "# score for this country for each of the given 5 Gapminder variables in 2007.\n",
    "# The possible country names are available in the Downloadables section.\n",
    "\n",
    "country_name = 'United States'\n",
    "\n",
    "def standardize_data(values):\n",
    "    values_mean = values.mean()\n",
    "    values_std = values.std()\n",
    "    std_data = (values - values_mean)/values_std\n",
    "    return std_data\n",
    "std_employment = standardize_data(employment)"
   ]
  },
  {
   "cell_type": "code",
   "execution_count": 23,
   "metadata": {
    "collapsed": false
   },
   "outputs": [
    {
     "data": {
      "text/plain": [
       "array([-0.31965231, -0.780123  , -0.87650077,  1.82207181, -0.03051941,\n",
       "       -1.99019768,  0.30144772, -0.16973184,  0.23719615,  0.84758731,\n",
       "        0.18365304,  1.00821665,  0.87971351, -0.56595055, -1.07996476,\n",
       "       -0.20185762,  1.38301845, -0.03051941,  1.2545153 , -1.87240259])"
      ]
     },
     "execution_count": 23,
     "metadata": {},
     "output_type": "execute_result"
    }
   ],
   "source": [
    "std_employment"
   ]
  },
  {
   "cell_type": "code",
   "execution_count": 7,
   "metadata": {
    "collapsed": false
   },
   "outputs": [
    {
     "name": "stdout",
     "output_type": "stream",
     "text": [
      "\n"
     ]
    }
   ],
   "source": [
    "# Time spent in the classroom in the first week for 20 students\n",
    "time_spent = np.array([\n",
    "       12.89697233,    0.        ,   64.55043217,    0.        ,\n",
    "       24.2315615 ,   39.991625  ,    0.        ,    0.        ,\n",
    "      147.20683783,    0.        ,    0.        ,    0.        ,\n",
    "       45.18261617,  157.60454283,  133.2434615 ,   52.85000767,\n",
    "        0.        ,   54.9204785 ,   26.78142417,    0.\n",
    "])\n",
    "\n",
    "# Days to cancel for 20 students\n",
    "days_to_cancel = np.array([\n",
    "      4,   5,  37,   3,  12,   4,  35,  38,   5,  37,   3,   3,  68,\n",
    "     38,  98,   2, 249,   2, 127,  35\n",
    "])"
   ]
  },
  {
   "cell_type": "code",
   "execution_count": 15,
   "metadata": {
    "collapsed": false
   },
   "outputs": [
    {
     "name": "stdout",
     "output_type": "stream",
     "text": [
      "Mean time spent for students that did not cancel in 7 days is :  60.0\n"
     ]
    }
   ],
   "source": [
    "def mean_time_for_paid_students(time_spent, days_to_cancel):\n",
    "    '''\n",
    "    Fill in this function to calculate the mean time spent in the classroom\n",
    "    for students who stayed enrolled at least (greater than or equal to) 7 days.\n",
    "    '''\n",
    "    days_cancel_bool = 7 <= days_to_cancel ## this will create a boolean index array that can be used below\n",
    "    mean_time = time_spent[days_cancel_bool].mean() ## subset the time_spent array by using boolen index\n",
    "    return mean_time\n",
    "\n",
    "print 'Mean time spent for students that did not cancel in 7 days is : ', mean_time_for_paid_students(time_spent, days_to_cancel)"
   ]
  },
  {
   "cell_type": "markdown",
   "metadata": {},
   "source": [
    "## A simpler way !"
   ]
  },
  {
   "cell_type": "code",
   "execution_count": 19,
   "metadata": {
    "collapsed": false
   },
   "outputs": [
    {
     "name": "stdout",
     "output_type": "stream",
     "text": [
      "60.0\n"
     ]
    }
   ],
   "source": [
    "mean_time = time_spent[days_to_cancel >= 7].mean()\n",
    "print mean_time"
   ]
  },
  {
   "cell_type": "markdown",
   "metadata": {},
   "source": [
    "## Be careful when working with slicing inside NumPy !!!!\n",
    "\n",
    "### slicing will only create a 'view' of the data and not a new array like in Python arrays, so any modification will be done of the original array. See example below"
   ]
  },
  {
   "cell_type": "code",
   "execution_count": 22,
   "metadata": {
    "collapsed": false
   },
   "outputs": [
    {
     "name": "stdout",
     "output_type": "stream",
     "text": [
      "[100   2   3   4   5]\n"
     ]
    }
   ],
   "source": [
    "### NumPy array slice\n",
    "\n",
    "a = np.array([1,2,3,4,5])\n",
    "slice = a[:3]\n",
    "slice[0] = 100\n",
    "print a"
   ]
  },
  {
   "cell_type": "code",
   "execution_count": 23,
   "metadata": {
    "collapsed": false
   },
   "outputs": [
    {
     "name": "stdout",
     "output_type": "stream",
     "text": [
      "[1, 2, 3, 4, 5]\n"
     ]
    }
   ],
   "source": [
    "## Base Pyhton slice\n",
    "\n",
    "a = [1,2,3,4,5]\n",
    "slice = a[:3]\n",
    "slice[0] = 100\n",
    "print a"
   ]
  },
  {
   "cell_type": "markdown",
   "metadata": {},
   "source": [
    "# Pandas"
   ]
  },
  {
   "cell_type": "code",
   "execution_count": 24,
   "metadata": {
    "collapsed": true
   },
   "outputs": [],
   "source": [
    "import pandas as pd\n",
    "\n",
    "countries = ['Albania', 'Algeria', 'Andorra', 'Angola', 'Antigua and Barbuda',\n",
    "             'Argentina', 'Armenia', 'Australia', 'Austria', 'Azerbaijan',\n",
    "             'Bahamas', 'Bahrain', 'Bangladesh', 'Barbados', 'Belarus',\n",
    "             'Belgium', 'Belize', 'Benin', 'Bhutan', 'Bolivia']\n",
    "\n",
    "life_expectancy_values = [74.7,  75. ,  83.4,  57.6,  74.6,  75.4,  72.3,  81.5,  80.2,\n",
    "                          70.3,  72.1,  76.4,  68.1,  75.2,  69.8,  79.4,  70.8,  62.7,\n",
    "                          67.3,  70.6]\n",
    "\n",
    "gdp_values = [ 1681.61390973,   2155.48523109,  21495.80508273,    562.98768478,\n",
    "              13495.1274663 ,   9388.68852258,   1424.19056199,  24765.54890176,\n",
    "              27036.48733192,   1945.63754911,  21721.61840978,  13373.21993972,\n",
    "                483.97086804,   9783.98417323,   2253.46411147,  25034.66692293,\n",
    "               3680.91642923,    366.04496652,   1175.92638695,   1132.21387981]\n",
    "\n",
    "# Life expectancy and gdp data in 2007 for 20 countries\n",
    "life_expectancy = pd.Series(life_expectancy_values)\n",
    "gdp = pd.Series(gdp_values)\n"
   ]
  },
  {
   "cell_type": "code",
   "execution_count": 28,
   "metadata": {
    "collapsed": false
   },
   "outputs": [
    {
     "data": {
      "text/plain": [
       "0     1681.613910\n",
       "1     2155.485231\n",
       "2    21495.805083\n",
       "dtype: float64"
      ]
     },
     "execution_count": 28,
     "metadata": {},
     "output_type": "execute_result"
    }
   ],
   "source": [
    "life_expectancy[:3]\n",
    "gdp[:3]"
   ]
  },
  {
   "cell_type": "code",
   "execution_count": 44,
   "metadata": {
    "collapsed": false
   },
   "outputs": [
    {
     "name": "stdout",
     "output_type": "stream",
     "text": [
      "Mean Life expectancy: 72.87 \n",
      "\n",
      "Mean GDP: 9147.87991648\n"
     ]
    }
   ],
   "source": [
    "print 'Mean Life expectancy:', life_expectancy.mean(),'\\n'\n",
    "print 'Mean GDP:', gdp.mean()"
   ]
  },
  {
   "cell_type": "code",
   "execution_count": 43,
   "metadata": {
    "collapsed": false
   },
   "outputs": [
    {
     "data": {
      "text/plain": [
       "(17, 3)"
      ]
     },
     "execution_count": 43,
     "metadata": {},
     "output_type": "execute_result"
    }
   ],
   "source": [
    "## check if both life expectency and gpd move in the same direction ie., both ave mean or both below mean\n",
    "\n",
    "def variable_correlation(var1,var2):\n",
    "    both_above = (var1 > var1.mean()) & (var2 > var2.mean())\n",
    "    both_below = (var1 < var1.mean()) & (var2 < var2.mean())\n",
    "    is_same_direction = both_above | both_below # using Logical OR \"|\" function\n",
    "    \n",
    "    num_same_direction = is_same_direction.sum()\n",
    "    num_diff_direction = len(var1) - num_same_direction\n",
    "    return(num_same_direction,num_diff_direction)\n",
    "\n",
    "variable_correlation(life_expectancy,gdp)"
   ]
  },
  {
   "cell_type": "code",
   "execution_count": 45,
   "metadata": {
    "collapsed": false
   },
   "outputs": [
    {
     "data": {
      "text/plain": [
       "count    20.000000\n",
       "mean     72.870000\n",
       "std       6.213999\n",
       "min      57.600000\n",
       "25%      70.175000\n",
       "50%      73.450000\n",
       "75%      75.650000\n",
       "max      83.400000\n",
       "dtype: float64"
      ]
     },
     "execution_count": 45,
     "metadata": {},
     "output_type": "execute_result"
    }
   ],
   "source": [
    "life_expectancy.describe()"
   ]
  },
  {
   "cell_type": "code",
   "execution_count": 61,
   "metadata": {
    "collapsed": false
   },
   "outputs": [
    {
     "name": "stdout",
     "output_type": "stream",
     "text": [
      "Afghanistan    55.700001\n",
      "Albania        51.400002\n",
      "Algeria        50.500000\n",
      "dtype: float64\n"
     ]
    }
   ],
   "source": [
    "countries = [\n",
    "    'Afghanistan', 'Albania', 'Algeria', 'Angola', 'Argentina',\n",
    "    'Armenia', 'Australia', 'Austria', 'Azerbaijan', 'Bahamas',\n",
    "    'Bahrain', 'Bangladesh', 'Barbados', 'Belarus', 'Belgium',\n",
    "    'Belize', 'Benin', 'Bhutan', 'Bolivia',\n",
    "    'Bosnia and Herzegovina'\n",
    "]\n",
    "\n",
    "\n",
    "employment_values = [\n",
    "    55.70000076,  51.40000153,  50.5       ,  75.69999695,\n",
    "    58.40000153,  40.09999847,  61.5       ,  57.09999847,\n",
    "    60.90000153,  66.59999847,  60.40000153,  68.09999847,\n",
    "    66.90000153,  53.40000153,  48.59999847,  56.79999924,\n",
    "    71.59999847,  58.40000153,  70.40000153,  41.20000076\n",
    "]\n",
    "\n",
    "# Employment data in 2007 for 20 countries\n",
    "employment = pd.Series(employment_values, index=countries)\n",
    "print employment[:3] # print the first 3 of the series"
   ]
  },
  {
   "cell_type": "code",
   "execution_count": 58,
   "metadata": {
    "collapsed": true
   },
   "outputs": [],
   "source": [
    "def max_employment(employment):\n",
    "    '''\n",
    "    Function to return the name of the country with the highest employment in the given employment\n",
    "    data, and the employment in that country. The input will be a Pandas series where the values\n",
    "    are employment and the index is country names.\n",
    "    \n",
    "    Try using the Pandas argmax() function. Documention is\n",
    "    here: http://pandas.pydata.org/pandas-docs/stable/generated/pandas.Series.argmax.html\n",
    "    '''\n",
    "    max_country = employment.argmax() # since country is the index here we get the country with max employment rate\n",
    "    max_value = employment.max() # this will just output max value\n",
    "    \n",
    "    return (max_country, max_value)"
   ]
  },
  {
   "cell_type": "code",
   "execution_count": 59,
   "metadata": {
    "collapsed": false
   },
   "outputs": [
    {
     "data": {
      "text/plain": [
       "('Angola', 75.699996949999999)"
      ]
     },
     "execution_count": 59,
     "metadata": {},
     "output_type": "execute_result"
    }
   ],
   "source": [
    "max_employment(employment)"
   ]
  },
  {
   "cell_type": "markdown",
   "metadata": {},
   "source": [
    "## Pandas series operations"
   ]
  },
  {
   "cell_type": "code",
   "execution_count": 62,
   "metadata": {
    "collapsed": false
   },
   "outputs": [
    {
     "name": "stdout",
     "output_type": "stream",
     "text": [
      "a    11\n",
      "b    22\n",
      "c    33\n",
      "d    44\n",
      "dtype: int64\n"
     ]
    }
   ],
   "source": [
    "# Addition when indexes are the same\n",
    "s1 = pd.Series([1, 2, 3, 4], index=['a', 'b', 'c', 'd'])\n",
    "s2 = pd.Series([10, 20, 30, 40], index=['a', 'b', 'c', 'd'])\n",
    "print s1 + s2"
   ]
  },
  {
   "cell_type": "code",
   "execution_count": 63,
   "metadata": {
    "collapsed": false
   },
   "outputs": [
    {
     "name": "stdout",
     "output_type": "stream",
     "text": [
      "a    31\n",
      "b    12\n",
      "c    43\n",
      "d    24\n",
      "dtype: int64\n"
     ]
    }
   ],
   "source": [
    "# Indexes have same elements in a different order\n",
    "s1 = pd.Series([1, 2, 3, 4], index=['a', 'b', 'c', 'd'])\n",
    "s2 = pd.Series([10, 20, 30, 40], index=['b', 'd', 'a', 'c'])\n",
    "print s1 + s2"
   ]
  },
  {
   "cell_type": "code",
   "execution_count": 65,
   "metadata": {
    "collapsed": false
   },
   "outputs": [
    {
     "name": "stdout",
     "output_type": "stream",
     "text": [
      "a     NaN\n",
      "b     NaN\n",
      "c    13.0\n",
      "d    24.0\n",
      "e     NaN\n",
      "f     NaN\n",
      "dtype: float64\n"
     ]
    }
   ],
   "source": [
    "# Indexes overlap, but do not have exactly the same elements\n",
    "\n",
    "s1 = pd.Series([1, 2, 3, 4], index=['a', 'b', 'c', 'd'])\n",
    "s2 = pd.Series([10, 20, 30, 40], index=['c', 'd', 'e', 'f'])\n",
    "print s1 + s2"
   ]
  },
  {
   "cell_type": "code",
   "execution_count": 66,
   "metadata": {
    "collapsed": false
   },
   "outputs": [
    {
     "name": "stdout",
     "output_type": "stream",
     "text": [
      "a   NaN\n",
      "b   NaN\n",
      "c   NaN\n",
      "d   NaN\n",
      "e   NaN\n",
      "f   NaN\n",
      "g   NaN\n",
      "h   NaN\n",
      "dtype: float64\n"
     ]
    }
   ],
   "source": [
    "# Indexes do not overlap\n",
    "s1 = pd.Series([1, 2, 3, 4], index=['a', 'b', 'c', 'd'])\n",
    "s2 = pd.Series([10, 20, 30, 40], index=['e', 'f', 'g', 'h'])\n",
    "print s1 + s2"
   ]
  },
  {
   "cell_type": "markdown",
   "metadata": {},
   "source": [
    "### Filling in missing values with 0 instead of NaN's when adding series with different indices"
   ]
  },
  {
   "cell_type": "code",
   "execution_count": 67,
   "metadata": {
    "collapsed": false
   },
   "outputs": [
    {
     "data": {
      "text/plain": [
       "a     0.0\n",
       "b     0.0\n",
       "c    13.0\n",
       "d    24.0\n",
       "e     0.0\n",
       "f     0.0\n",
       "dtype: float64"
      ]
     },
     "execution_count": 67,
     "metadata": {},
     "output_type": "execute_result"
    }
   ],
   "source": [
    "\n",
    "s1 = pd.Series([1, 2, 3, 4], index=['a', 'b', 'c', 'd'])\n",
    "s2 = pd.Series([10, 20, 30, 40], index=['c', 'd', 'e', 'f'])\n",
    "\n",
    "sum_series = (s1 + s2)\n",
    "sum_series.fillna(value=0) # replace NaN with 0"
   ]
  },
  {
   "cell_type": "markdown",
   "metadata": {},
   "source": [
    "### But this is not what we want, we are loosing data in series here\n",
    "\n",
    "#### Use 'add' and fill_value"
   ]
  },
  {
   "cell_type": "code",
   "execution_count": 74,
   "metadata": {
    "collapsed": false
   },
   "outputs": [
    {
     "name": "stdout",
     "output_type": "stream",
     "text": [
      "a     1.0\n",
      "b     2.0\n",
      "c    13.0\n",
      "d    24.0\n",
      "e    30.0\n",
      "f    40.0\n",
      "dtype: float64\n"
     ]
    }
   ],
   "source": [
    "sum_series = s1.add(s2,fill_value=0) # this will \"add\" s1 to s2 and while adding if the index is missing fills with 0\n",
    "\n",
    "print sum_series"
   ]
  },
  {
   "cell_type": "markdown",
   "metadata": {
    "collapsed": true
   },
   "source": [
    "# Using apply() in Pandas"
   ]
  },
  {
   "cell_type": "code",
   "execution_count": 1,
   "metadata": {
    "collapsed": true
   },
   "outputs": [],
   "source": [
    "import pandas as pd"
   ]
  },
  {
   "cell_type": "code",
   "execution_count": 18,
   "metadata": {
    "collapsed": true
   },
   "outputs": [],
   "source": [
    "names = pd.Series([\n",
    "    'Andre Agassi',\n",
    "    'Barry Bonds',\n",
    "    'Christopher Columbus',\n",
    "    'Daniel Defoe',\n",
    "    'Emilio Estevez',\n",
    "    'Fred Flintstone',\n",
    "    'Greta Garbo',\n",
    "    'Humbert Humbert',\n",
    "    'Ivan Ilych',\n",
    "    'James Joyce',\n",
    "    'Keira Knightley',\n",
    "    'Lois Lane',\n",
    "    'Mike Myers',\n",
    "    'Nick Nolte',\n",
    "    'Ozzy Osbourne',\n",
    "    'Pablo Picasso',\n",
    "    'Quirinus Quirrell',\n",
    "    'Rachael Ray',\n",
    "    'Susan Sarandon',\n",
    "    'Tina Turner',\n",
    "    'Ugueth Urbina',\n",
    "    'Vince Vaughn',\n",
    "    'Woodrow Wilson',\n",
    "    'Yoji Yamada',\n",
    "    'Zinedine Zidane'\n",
    "])"
   ]
  },
  {
   "cell_type": "code",
   "execution_count": 36,
   "metadata": {
    "collapsed": false
   },
   "outputs": [],
   "source": [
    "def reverse_name(names):\n",
    "    \n",
    "    strip_name = names.split(\" \") # split() acts like a strip function which strips each part of a string\n",
    "    first_name = strip_name[0]\n",
    "    last_name = strip_name[1]\n",
    "    reverse_name = last_name + ',' + first_name # reverse the order to lastname,firstname\n",
    "    \n",
    "    return reverse_name"
   ]
  },
  {
   "cell_type": "code",
   "execution_count": 38,
   "metadata": {
    "collapsed": false
   },
   "outputs": [
    {
     "name": "stdout",
     "output_type": "stream",
     "text": [
      "0             Agassi,Andre\n",
      "1              Bonds,Barry\n",
      "2     Columbus,Christopher\n",
      "3             Defoe,Daniel\n",
      "4           Estevez,Emilio\n",
      "5          Flintstone,Fred\n",
      "6              Garbo,Greta\n",
      "7          Humbert,Humbert\n",
      "8               Ilych,Ivan\n",
      "9              Joyce,James\n",
      "10         Knightley,Keira\n",
      "11               Lane,Lois\n",
      "12              Myers,Mike\n",
      "13              Nolte,Nick\n",
      "14           Osbourne,Ozzy\n",
      "15           Picasso,Pablo\n",
      "16       Quirrell,Quirinus\n",
      "17             Ray,Rachael\n",
      "18          Sarandon,Susan\n",
      "19             Turner,Tina\n",
      "20           Urbina,Ugueth\n",
      "21            Vaughn,Vince\n",
      "22          Wilson,Woodrow\n",
      "23             Yamada,Yoji\n",
      "24         Zidane,Zinedine\n",
      "dtype: object\n"
     ]
    },
    {
     "data": {
      "text/plain": [
       "pandas.core.series.Series"
      ]
     },
     "execution_count": 38,
     "metadata": {},
     "output_type": "execute_result"
    }
   ],
   "source": [
    "print names.apply(reverse_name)"
   ]
  },
  {
   "cell_type": "code",
   "execution_count": null,
   "metadata": {
    "collapsed": true
   },
   "outputs": [],
   "source": []
  }
 ],
 "metadata": {
  "kernelspec": {
   "display_name": "Python [Root]",
   "language": "python",
   "name": "Python [Root]"
  },
  "language_info": {
   "codemirror_mode": {
    "name": "ipython",
    "version": 2
   },
   "file_extension": ".py",
   "mimetype": "text/x-python",
   "name": "python",
   "nbconvert_exporter": "python",
   "pygments_lexer": "ipython2",
   "version": "2.7.11"
  }
 },
 "nbformat": 4,
 "nbformat_minor": 0
}
